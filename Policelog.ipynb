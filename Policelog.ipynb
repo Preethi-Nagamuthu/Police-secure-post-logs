{
 "cells": [
  {
   "cell_type": "markdown",
   "id": "c99de5be",
   "metadata": {},
   "source": [
    "# Read The csv file"
   ]
  },
  {
   "cell_type": "code",
   "execution_count": 97,
   "id": "36aa5fc7",
   "metadata": {},
   "outputs": [
    {
     "name": "stderr",
     "output_type": "stream",
     "text": [
      "C:\\Users\\nagam\\AppData\\Local\\Temp\\ipykernel_31176\\447685960.py:4: DtypeWarning: Columns (10) have mixed types. Specify dtype option on import or set low_memory=False.\n",
      "  df = pd.read_csv(\"c:/Users/nagam/OneDrive/Desktop/Police_secure_log/traffic_stops - traffic_stops_with_vehicle_number.csv\")\n"
     ]
    },
    {
     "data": {
      "text/html": [
       "<div>\n",
       "<style scoped>\n",
       "    .dataframe tbody tr th:only-of-type {\n",
       "        vertical-align: middle;\n",
       "    }\n",
       "\n",
       "    .dataframe tbody tr th {\n",
       "        vertical-align: top;\n",
       "    }\n",
       "\n",
       "    .dataframe thead th {\n",
       "        text-align: right;\n",
       "    }\n",
       "</style>\n",
       "<table border=\"1\" class=\"dataframe\">\n",
       "  <thead>\n",
       "    <tr style=\"text-align: right;\">\n",
       "      <th></th>\n",
       "      <th>stop_date</th>\n",
       "      <th>stop_time</th>\n",
       "      <th>country_name</th>\n",
       "      <th>driver_gender</th>\n",
       "      <th>driver_age_raw</th>\n",
       "      <th>driver_age</th>\n",
       "      <th>driver_race</th>\n",
       "      <th>violation_raw</th>\n",
       "      <th>violation</th>\n",
       "      <th>search_conducted</th>\n",
       "      <th>search_type</th>\n",
       "      <th>stop_outcome</th>\n",
       "      <th>is_arrested</th>\n",
       "      <th>stop_duration</th>\n",
       "      <th>drugs_related_stop</th>\n",
       "      <th>vehicle_number</th>\n",
       "    </tr>\n",
       "  </thead>\n",
       "  <tbody>\n",
       "    <tr>\n",
       "      <th>0</th>\n",
       "      <td>2020-01-01</td>\n",
       "      <td>0:00:00</td>\n",
       "      <td>Canada</td>\n",
       "      <td>M</td>\n",
       "      <td>59</td>\n",
       "      <td>19</td>\n",
       "      <td>Asian</td>\n",
       "      <td>Drunk Driving</td>\n",
       "      <td>Speeding</td>\n",
       "      <td>True</td>\n",
       "      <td>Vehicle Search</td>\n",
       "      <td>Ticket</td>\n",
       "      <td>True</td>\n",
       "      <td>16-30 Min</td>\n",
       "      <td>True</td>\n",
       "      <td>UP76DY3473</td>\n",
       "    </tr>\n",
       "    <tr>\n",
       "      <th>1</th>\n",
       "      <td>2020-01-01</td>\n",
       "      <td>0:01:00</td>\n",
       "      <td>India</td>\n",
       "      <td>M</td>\n",
       "      <td>35</td>\n",
       "      <td>58</td>\n",
       "      <td>Other</td>\n",
       "      <td>Other</td>\n",
       "      <td>Other</td>\n",
       "      <td>False</td>\n",
       "      <td>Vehicle Search</td>\n",
       "      <td>Arrest</td>\n",
       "      <td>True</td>\n",
       "      <td>16-30 Min</td>\n",
       "      <td>True</td>\n",
       "      <td>RJ83PZ4441</td>\n",
       "    </tr>\n",
       "    <tr>\n",
       "      <th>2</th>\n",
       "      <td>2020-01-01</td>\n",
       "      <td>0:02:00</td>\n",
       "      <td>USA</td>\n",
       "      <td>M</td>\n",
       "      <td>26</td>\n",
       "      <td>76</td>\n",
       "      <td>Black</td>\n",
       "      <td>Signal Violation</td>\n",
       "      <td>Speeding</td>\n",
       "      <td>False</td>\n",
       "      <td>Frisk</td>\n",
       "      <td>Ticket</td>\n",
       "      <td>True</td>\n",
       "      <td>16-30 Min</td>\n",
       "      <td>True</td>\n",
       "      <td>RJ32OM7264</td>\n",
       "    </tr>\n",
       "    <tr>\n",
       "      <th>3</th>\n",
       "      <td>2020-01-01</td>\n",
       "      <td>0:03:00</td>\n",
       "      <td>Canada</td>\n",
       "      <td>M</td>\n",
       "      <td>26</td>\n",
       "      <td>76</td>\n",
       "      <td>Black</td>\n",
       "      <td>Speeding</td>\n",
       "      <td>DUI</td>\n",
       "      <td>True</td>\n",
       "      <td>Frisk</td>\n",
       "      <td>Warning</td>\n",
       "      <td>False</td>\n",
       "      <td>0-15 Min</td>\n",
       "      <td>True</td>\n",
       "      <td>RJ76TI3807</td>\n",
       "    </tr>\n",
       "    <tr>\n",
       "      <th>4</th>\n",
       "      <td>2020-01-01</td>\n",
       "      <td>0:04:00</td>\n",
       "      <td>Canada</td>\n",
       "      <td>M</td>\n",
       "      <td>62</td>\n",
       "      <td>75</td>\n",
       "      <td>Other</td>\n",
       "      <td>Speeding</td>\n",
       "      <td>Other</td>\n",
       "      <td>False</td>\n",
       "      <td>Vehicle Search</td>\n",
       "      <td>Arrest</td>\n",
       "      <td>True</td>\n",
       "      <td>16-30 Min</td>\n",
       "      <td>False</td>\n",
       "      <td>WB63BB8305</td>\n",
       "    </tr>\n",
       "  </tbody>\n",
       "</table>\n",
       "</div>"
      ],
      "text/plain": [
       "    stop_date stop_time country_name driver_gender  driver_age_raw  \\\n",
       "0  2020-01-01   0:00:00       Canada             M              59   \n",
       "1  2020-01-01   0:01:00        India             M              35   \n",
       "2  2020-01-01   0:02:00          USA             M              26   \n",
       "3  2020-01-01   0:03:00       Canada             M              26   \n",
       "4  2020-01-01   0:04:00       Canada             M              62   \n",
       "\n",
       "   driver_age driver_race     violation_raw violation  search_conducted  \\\n",
       "0          19       Asian     Drunk Driving  Speeding              True   \n",
       "1          58       Other             Other     Other             False   \n",
       "2          76       Black  Signal Violation  Speeding             False   \n",
       "3          76       Black          Speeding       DUI              True   \n",
       "4          75       Other          Speeding     Other             False   \n",
       "\n",
       "      search_type stop_outcome  is_arrested stop_duration  drugs_related_stop  \\\n",
       "0  Vehicle Search       Ticket         True     16-30 Min                True   \n",
       "1  Vehicle Search       Arrest         True     16-30 Min                True   \n",
       "2           Frisk       Ticket         True     16-30 Min                True   \n",
       "3           Frisk      Warning        False      0-15 Min                True   \n",
       "4  Vehicle Search       Arrest         True     16-30 Min               False   \n",
       "\n",
       "  vehicle_number  \n",
       "0     UP76DY3473  \n",
       "1     RJ83PZ4441  \n",
       "2     RJ32OM7264  \n",
       "3     RJ76TI3807  \n",
       "4     WB63BB8305  "
      ]
     },
     "execution_count": 97,
     "metadata": {},
     "output_type": "execute_result"
    }
   ],
   "source": [
    "import pandas as pd\n",
    "\n",
    "# Read the Excel file  \n",
    "df = pd.read_csv(\"c:/Users/nagam/OneDrive/Desktop/Police_secure_log/traffic_stops - traffic_stops_with_vehicle_number.csv\")\n",
    "\n",
    "# Display first few rows\n",
    "df.head()\n"
   ]
  },
  {
   "cell_type": "code",
   "execution_count": 98,
   "id": "32df602d",
   "metadata": {},
   "outputs": [
    {
     "name": "stdout",
     "output_type": "stream",
     "text": [
      "stop_date                 0\n",
      "stop_time                 0\n",
      "country_name              0\n",
      "driver_gender             0\n",
      "driver_age_raw            0\n",
      "driver_age                0\n",
      "driver_race               0\n",
      "violation_raw             0\n",
      "violation                 0\n",
      "search_conducted          0\n",
      "search_type           21720\n",
      "stop_outcome              0\n",
      "is_arrested               0\n",
      "stop_duration             0\n",
      "drugs_related_stop        0\n",
      "vehicle_number            0\n",
      "dtype: int64\n"
     ]
    }
   ],
   "source": [
    "print(df.isna().sum())"
   ]
  },
  {
   "cell_type": "code",
   "execution_count": 99,
   "id": "4d7c93f5",
   "metadata": {},
   "outputs": [
    {
     "name": "stdout",
     "output_type": "stream",
     "text": [
      "        stop_date stop_time country_name driver_gender  driver_age_raw  \\\n",
      "0      2020-01-01   0:00:00       Canada             M              59   \n",
      "1      2020-01-01   0:01:00        India             M              35   \n",
      "2      2020-01-01   0:02:00          USA             M              26   \n",
      "3      2020-01-01   0:03:00       Canada             M              26   \n",
      "4      2020-01-01   0:04:00       Canada             M              62   \n",
      "...           ...       ...          ...           ...             ...   \n",
      "65533  2020-02-15  12:13:00        India             F              54   \n",
      "65534  2020-02-15  12:14:00       Canada             F              18   \n",
      "65535  2020-02-15  12:15:00          USA             M              27   \n",
      "65536  2020-02-15  12:16:00       Canada             F              49   \n",
      "65537  2020-02-15  12:17:00          USA             F              72   \n",
      "\n",
      "       driver_age driver_race     violation_raw violation  search_conducted  \\\n",
      "0              19       Asian     Drunk Driving  Speeding              True   \n",
      "1              58       Other             Other     Other             False   \n",
      "2              76       Black  Signal Violation  Speeding             False   \n",
      "3              76       Black          Speeding       DUI              True   \n",
      "4              75       Other          Speeding     Other             False   \n",
      "...           ...         ...               ...       ...               ...   \n",
      "65533          48       Black             Other     Other             False   \n",
      "65534          35    Hispanic          Seatbelt     Other              True   \n",
      "65535          41       Asian          Seatbelt       DUI              True   \n",
      "65536          63       Black          Seatbelt     Other             False   \n",
      "65537          32       Other          Seatbelt  Speeding              True   \n",
      "\n",
      "          search_type stop_outcome  is_arrested stop_duration  \\\n",
      "0      Vehicle Search       Ticket         True     16-30 Min   \n",
      "1      Vehicle Search       Arrest         True     16-30 Min   \n",
      "2               Frisk       Ticket         True     16-30 Min   \n",
      "3               Frisk      Warning        False      0-15 Min   \n",
      "4      Vehicle Search       Arrest         True     16-30 Min   \n",
      "...               ...          ...          ...           ...   \n",
      "65533  Vehicle Search       Arrest         True     16-30 Min   \n",
      "65534  Vehicle Search       Ticket        False     16-30 Min   \n",
      "65535           Frisk       Ticket         True       30+ Min   \n",
      "65536             NaN      Warning         True      0-15 Min   \n",
      "65537             NaN       Ticket         True     16-30 Min   \n",
      "\n",
      "       drugs_related_stop vehicle_number  \n",
      "0                    True     UP76DY3473  \n",
      "1                    True     RJ83PZ4441  \n",
      "2                    True     RJ32OM7264  \n",
      "3                    True     RJ76TI3807  \n",
      "4                   False     WB63BB8305  \n",
      "...                   ...            ...  \n",
      "65533               False     DL56GW6568  \n",
      "65534                True     TN73EO7098  \n",
      "65535                True     GJ33MX8328  \n",
      "65536                True     KA24UZ8488  \n",
      "65537               False     UP89PT2924  \n",
      "\n",
      "[65538 rows x 16 columns]\n"
     ]
    }
   ],
   "source": [
    "df = df.dropna(axis=1,how='all')\n",
    "print(df)"
   ]
  },
  {
   "cell_type": "code",
   "execution_count": 100,
   "id": "fa09b3fa",
   "metadata": {},
   "outputs": [
    {
     "name": "stderr",
     "output_type": "stream",
     "text": [
      "C:\\Users\\nagam\\AppData\\Local\\Temp\\ipykernel_31176\\4025665237.py:1: FutureWarning: DataFrame.fillna with 'method' is deprecated and will raise in a future version. Use obj.ffill() or obj.bfill() instead.\n",
      "  df = df.fillna(method='bfill')\n",
      "C:\\Users\\nagam\\AppData\\Local\\Temp\\ipykernel_31176\\4025665237.py:4: FutureWarning: DataFrame.fillna with 'method' is deprecated and will raise in a future version. Use obj.ffill() or obj.bfill() instead.\n",
      "  df = df.fillna(method='ffill')\n"
     ]
    },
    {
     "name": "stdout",
     "output_type": "stream",
     "text": [
      "        stop_date stop_time country_name driver_gender  driver_age_raw  \\\n",
      "0      2020-01-01   0:00:00       Canada             M              59   \n",
      "1      2020-01-01   0:01:00        India             M              35   \n",
      "2      2020-01-01   0:02:00          USA             M              26   \n",
      "3      2020-01-01   0:03:00       Canada             M              26   \n",
      "4      2020-01-01   0:04:00       Canada             M              62   \n",
      "...           ...       ...          ...           ...             ...   \n",
      "65533  2020-02-15  12:13:00        India             F              54   \n",
      "65534  2020-02-15  12:14:00       Canada             F              18   \n",
      "65535  2020-02-15  12:15:00          USA             M              27   \n",
      "65536  2020-02-15  12:16:00       Canada             F              49   \n",
      "65537  2020-02-15  12:17:00          USA             F              72   \n",
      "\n",
      "       driver_age driver_race     violation_raw violation  search_conducted  \\\n",
      "0              19       Asian     Drunk Driving  Speeding              True   \n",
      "1              58       Other             Other     Other             False   \n",
      "2              76       Black  Signal Violation  Speeding             False   \n",
      "3              76       Black          Speeding       DUI              True   \n",
      "4              75       Other          Speeding     Other             False   \n",
      "...           ...         ...               ...       ...               ...   \n",
      "65533          48       Black             Other     Other             False   \n",
      "65534          35    Hispanic          Seatbelt     Other              True   \n",
      "65535          41       Asian          Seatbelt       DUI              True   \n",
      "65536          63       Black          Seatbelt     Other             False   \n",
      "65537          32       Other          Seatbelt  Speeding              True   \n",
      "\n",
      "          search_type stop_outcome  is_arrested stop_duration  \\\n",
      "0      Vehicle Search       Ticket         True     16-30 Min   \n",
      "1      Vehicle Search       Arrest         True     16-30 Min   \n",
      "2               Frisk       Ticket         True     16-30 Min   \n",
      "3               Frisk      Warning        False      0-15 Min   \n",
      "4      Vehicle Search       Arrest         True     16-30 Min   \n",
      "...               ...          ...          ...           ...   \n",
      "65533  Vehicle Search       Arrest         True     16-30 Min   \n",
      "65534  Vehicle Search       Ticket        False     16-30 Min   \n",
      "65535           Frisk       Ticket         True       30+ Min   \n",
      "65536           Frisk      Warning         True      0-15 Min   \n",
      "65537           Frisk       Ticket         True     16-30 Min   \n",
      "\n",
      "       drugs_related_stop vehicle_number  \n",
      "0                    True     UP76DY3473  \n",
      "1                    True     RJ83PZ4441  \n",
      "2                    True     RJ32OM7264  \n",
      "3                    True     RJ76TI3807  \n",
      "4                   False     WB63BB8305  \n",
      "...                   ...            ...  \n",
      "65533               False     DL56GW6568  \n",
      "65534                True     TN73EO7098  \n",
      "65535                True     GJ33MX8328  \n",
      "65536                True     KA24UZ8488  \n",
      "65537               False     UP89PT2924  \n",
      "\n",
      "[65538 rows x 16 columns]\n"
     ]
    }
   ],
   "source": [
    "df = df.fillna(method='bfill')\n",
    "\n",
    "# Forward fill (ffill)\n",
    "df = df.fillna(method='ffill')\n",
    "\n",
    "# Fill with mean (for numerical columns only)\n",
    "df = df.fillna(df.mean(numeric_only=True))\n",
    "\n",
    "# Fill with 0\n",
    "df_zero = df.fillna(0)\n",
    "\n",
    "# Drop rows with null values\n",
    "df_dropped = df.dropna()\n",
    "print(df)"
   ]
  },
  {
   "cell_type": "code",
   "execution_count": 101,
   "id": "2830b9f3",
   "metadata": {},
   "outputs": [
    {
     "data": {
      "text/plain": [
       "stop_date             0\n",
       "stop_time             0\n",
       "country_name          0\n",
       "driver_gender         0\n",
       "driver_age_raw        0\n",
       "driver_age            0\n",
       "driver_race           0\n",
       "violation_raw         0\n",
       "violation             0\n",
       "search_conducted      0\n",
       "search_type           0\n",
       "stop_outcome          0\n",
       "is_arrested           0\n",
       "stop_duration         0\n",
       "drugs_related_stop    0\n",
       "vehicle_number        0\n",
       "dtype: int64"
      ]
     },
     "execution_count": 101,
     "metadata": {},
     "output_type": "execute_result"
    }
   ],
   "source": [
    "df.isnull().sum()"
   ]
  },
  {
   "cell_type": "code",
   "execution_count": 102,
   "id": "b12fc061",
   "metadata": {},
   "outputs": [
    {
     "data": {
      "text/html": [
       "<div>\n",
       "<style scoped>\n",
       "    .dataframe tbody tr th:only-of-type {\n",
       "        vertical-align: middle;\n",
       "    }\n",
       "\n",
       "    .dataframe tbody tr th {\n",
       "        vertical-align: top;\n",
       "    }\n",
       "\n",
       "    .dataframe thead th {\n",
       "        text-align: right;\n",
       "    }\n",
       "</style>\n",
       "<table border=\"1\" class=\"dataframe\">\n",
       "  <thead>\n",
       "    <tr style=\"text-align: right;\">\n",
       "      <th></th>\n",
       "      <th>stop_date</th>\n",
       "      <th>stop_time</th>\n",
       "      <th>country_name</th>\n",
       "      <th>driver_gender</th>\n",
       "      <th>driver_age_raw</th>\n",
       "      <th>driver_age</th>\n",
       "      <th>driver_race</th>\n",
       "      <th>violation_raw</th>\n",
       "      <th>violation</th>\n",
       "      <th>search_conducted</th>\n",
       "      <th>search_type</th>\n",
       "      <th>stop_outcome</th>\n",
       "      <th>is_arrested</th>\n",
       "      <th>stop_duration</th>\n",
       "      <th>drugs_related_stop</th>\n",
       "      <th>vehicle_number</th>\n",
       "    </tr>\n",
       "  </thead>\n",
       "  <tbody>\n",
       "    <tr>\n",
       "      <th>0</th>\n",
       "      <td>2020-01-01</td>\n",
       "      <td>0:00:00</td>\n",
       "      <td>Canada</td>\n",
       "      <td>M</td>\n",
       "      <td>59</td>\n",
       "      <td>19</td>\n",
       "      <td>Asian</td>\n",
       "      <td>Drunk Driving</td>\n",
       "      <td>Speeding</td>\n",
       "      <td>True</td>\n",
       "      <td>Vehicle Search</td>\n",
       "      <td>Ticket</td>\n",
       "      <td>True</td>\n",
       "      <td>16-30 Min</td>\n",
       "      <td>True</td>\n",
       "      <td>UP76DY3473</td>\n",
       "    </tr>\n",
       "    <tr>\n",
       "      <th>1</th>\n",
       "      <td>2020-01-01</td>\n",
       "      <td>0:01:00</td>\n",
       "      <td>India</td>\n",
       "      <td>M</td>\n",
       "      <td>35</td>\n",
       "      <td>58</td>\n",
       "      <td>Other</td>\n",
       "      <td>Other</td>\n",
       "      <td>Other</td>\n",
       "      <td>False</td>\n",
       "      <td>Vehicle Search</td>\n",
       "      <td>Arrest</td>\n",
       "      <td>True</td>\n",
       "      <td>16-30 Min</td>\n",
       "      <td>True</td>\n",
       "      <td>RJ83PZ4441</td>\n",
       "    </tr>\n",
       "    <tr>\n",
       "      <th>2</th>\n",
       "      <td>2020-01-01</td>\n",
       "      <td>0:02:00</td>\n",
       "      <td>USA</td>\n",
       "      <td>M</td>\n",
       "      <td>26</td>\n",
       "      <td>76</td>\n",
       "      <td>Black</td>\n",
       "      <td>Signal Violation</td>\n",
       "      <td>Speeding</td>\n",
       "      <td>False</td>\n",
       "      <td>Frisk</td>\n",
       "      <td>Ticket</td>\n",
       "      <td>True</td>\n",
       "      <td>16-30 Min</td>\n",
       "      <td>True</td>\n",
       "      <td>RJ32OM7264</td>\n",
       "    </tr>\n",
       "    <tr>\n",
       "      <th>3</th>\n",
       "      <td>2020-01-01</td>\n",
       "      <td>0:03:00</td>\n",
       "      <td>Canada</td>\n",
       "      <td>M</td>\n",
       "      <td>26</td>\n",
       "      <td>76</td>\n",
       "      <td>Black</td>\n",
       "      <td>Speeding</td>\n",
       "      <td>DUI</td>\n",
       "      <td>True</td>\n",
       "      <td>Frisk</td>\n",
       "      <td>Warning</td>\n",
       "      <td>False</td>\n",
       "      <td>0-15 Min</td>\n",
       "      <td>True</td>\n",
       "      <td>RJ76TI3807</td>\n",
       "    </tr>\n",
       "    <tr>\n",
       "      <th>4</th>\n",
       "      <td>2020-01-01</td>\n",
       "      <td>0:04:00</td>\n",
       "      <td>Canada</td>\n",
       "      <td>M</td>\n",
       "      <td>62</td>\n",
       "      <td>75</td>\n",
       "      <td>Other</td>\n",
       "      <td>Speeding</td>\n",
       "      <td>Other</td>\n",
       "      <td>False</td>\n",
       "      <td>Vehicle Search</td>\n",
       "      <td>Arrest</td>\n",
       "      <td>True</td>\n",
       "      <td>16-30 Min</td>\n",
       "      <td>False</td>\n",
       "      <td>WB63BB8305</td>\n",
       "    </tr>\n",
       "  </tbody>\n",
       "</table>\n",
       "</div>"
      ],
      "text/plain": [
       "    stop_date stop_time country_name driver_gender  driver_age_raw  \\\n",
       "0  2020-01-01   0:00:00       Canada             M              59   \n",
       "1  2020-01-01   0:01:00        India             M              35   \n",
       "2  2020-01-01   0:02:00          USA             M              26   \n",
       "3  2020-01-01   0:03:00       Canada             M              26   \n",
       "4  2020-01-01   0:04:00       Canada             M              62   \n",
       "\n",
       "   driver_age driver_race     violation_raw violation  search_conducted  \\\n",
       "0          19       Asian     Drunk Driving  Speeding              True   \n",
       "1          58       Other             Other     Other             False   \n",
       "2          76       Black  Signal Violation  Speeding             False   \n",
       "3          76       Black          Speeding       DUI              True   \n",
       "4          75       Other          Speeding     Other             False   \n",
       "\n",
       "      search_type stop_outcome  is_arrested stop_duration  drugs_related_stop  \\\n",
       "0  Vehicle Search       Ticket         True     16-30 Min                True   \n",
       "1  Vehicle Search       Arrest         True     16-30 Min                True   \n",
       "2           Frisk       Ticket         True     16-30 Min                True   \n",
       "3           Frisk      Warning        False      0-15 Min                True   \n",
       "4  Vehicle Search       Arrest         True     16-30 Min               False   \n",
       "\n",
       "  vehicle_number  \n",
       "0     UP76DY3473  \n",
       "1     RJ83PZ4441  \n",
       "2     RJ32OM7264  \n",
       "3     RJ76TI3807  \n",
       "4     WB63BB8305  "
      ]
     },
     "execution_count": 102,
     "metadata": {},
     "output_type": "execute_result"
    }
   ],
   "source": [
    "df.head()"
   ]
  },
  {
   "cell_type": "markdown",
   "id": "79a7cd82",
   "metadata": {},
   "source": [
    "# SQL Connection sqlite"
   ]
  },
  {
   "cell_type": "code",
   "execution_count": 103,
   "id": "b74c4564",
   "metadata": {},
   "outputs": [
    {
     "name": "stdout",
     "output_type": "stream",
     "text": [
      "SQLite connection established!\n"
     ]
    }
   ],
   "source": [
    "import sqlite3\n",
    "\n",
    "conn_sqlite = sqlite3.connect(\"policelog_database.sqlite\")  # Creates a local database file\n",
    "cursor = conn_sqlite.cursor()\n",
    "print(\"SQLite connection established!\")"
   ]
  },
  {
   "cell_type": "code",
   "execution_count": 104,
   "id": "6fe3549d",
   "metadata": {},
   "outputs": [
    {
     "name": "stdout",
     "output_type": "stream",
     "text": [
      "SQLAlchemy connection established!\n"
     ]
    }
   ],
   "source": [
    "from sqlalchemy import create_engine\n",
    "\n",
    "engine = create_engine(\"sqlite:///policelog_database.sqlite\")  # For SQLite\n",
    "conn_alchemy = engine.connect()\n",
    "print(\"SQLAlchemy connection established!\")"
   ]
  },
  {
   "cell_type": "code",
   "execution_count": 105,
   "id": "122611aa",
   "metadata": {},
   "outputs": [
    {
     "name": "stdout",
     "output_type": "stream",
     "text": [
      "Table 'policelog_data' created successfully in SQLite!\n"
     ]
    }
   ],
   "source": [
    "cursor.execute(\"\"\"\n",
    "    CREATE TABLE IF NOT EXISTS policelog_data (\n",
    "       stop_date date,\n",
    "       stop_time time,\n",
    "       country_name\tVarchar(50),\n",
    "       driver_gender Varchar(50),\n",
    "       driver_age_raw int,\t\n",
    "       driver_age int,\n",
    "       driver_race Varchar(50),\n",
    "       violation_raw Varchar(50),\n",
    "       violation Varchar(50),\n",
    "       search_conducted Varchar(50),\n",
    "       search_type Varchar(50),\n",
    "       stop_outcome\tVarchar(50),\n",
    "       is_arrested  Varchar(50),\n",
    "       stop_duration Varchar(50),\n",
    "       drugs_related_stop Varchar(50),\n",
    "       vehicle_number Varchar(50)\n",
    "\n",
    "    );\n",
    "\"\"\")\n",
    "conn_sqlite.commit()\n",
    "print(\"Table 'policelog_data' created successfully in SQLite!\")\n"
   ]
  },
  {
   "cell_type": "code",
   "execution_count": 106,
   "id": "3088e1e9",
   "metadata": {},
   "outputs": [
    {
     "name": "stdout",
     "output_type": "stream",
     "text": [
      "Data inserted using to_sql()\n"
     ]
    }
   ],
   "source": [
    "df.to_sql(\"policelog_data\", engine, if_exists=\"append\", index=False)\n",
    "print(\"Data inserted using to_sql()\")"
   ]
  },
  {
   "cell_type": "code",
   "execution_count": 107,
   "id": "2d763562",
   "metadata": {},
   "outputs": [
    {
     "name": "stdout",
     "output_type": "stream",
     "text": [
      "Data inserted using iterrows()\n"
     ]
    }
   ],
   "source": [
    "for index, row in df.iterrows():\n",
    "    cursor.execute(\"\"\"\n",
    "        INSERT INTO policelog_data (stop_date,stop_time,\n",
    "    country_name,driver_gender,driver_age_raw,driver_age,driver_race,\n",
    "    violation_raw,violation,search_conducted,search_type,stop_outcome,\n",
    "    is_arrested,stop_duration,drugs_related_stop,vehicle_number)\n",
    "        VALUES (?, ?, ?, ?, ?, ?, ?, ?,?, ?, ?, ?, ?, ?, ?, ?);\n",
    "    \"\"\", tuple(row))\n",
    "conn_sqlite.commit()\n",
    "print(\"Data inserted using iterrows()\")"
   ]
  },
  {
   "cell_type": "code",
   "execution_count": 109,
   "id": "8c9b84b0",
   "metadata": {},
   "outputs": [
    {
     "ename": "KeyboardInterrupt",
     "evalue": "",
     "output_type": "error",
     "traceback": [
      "\u001b[1;31m---------------------------------------------------------------------------\u001b[0m",
      "\u001b[1;31mKeyboardInterrupt\u001b[0m                         Traceback (most recent call last)",
      "Cell \u001b[1;32mIn[109], line 4\u001b[0m\n\u001b[0;32m      2\u001b[0m cursor\u001b[38;5;241m.\u001b[39mexecute(\u001b[38;5;124m\"\u001b[39m\u001b[38;5;124mselect * from policelog_data\u001b[39m\u001b[38;5;124m\"\u001b[39m)\n\u001b[0;32m      3\u001b[0m out\u001b[38;5;241m=\u001b[39mcursor\u001b[38;5;241m.\u001b[39mfetchall() \n\u001b[1;32m----> 4\u001b[0m \u001b[38;5;28mprint\u001b[39m(tabulate(out,headers\u001b[38;5;241m=\u001b[39m[i[\u001b[38;5;241m0\u001b[39m] \u001b[38;5;28;01mfor\u001b[39;00m i \u001b[38;5;129;01min\u001b[39;00m cursor\u001b[38;5;241m.\u001b[39mdescription],  tablefmt\u001b[38;5;241m=\u001b[39m\u001b[38;5;124m'\u001b[39m\u001b[38;5;124mpsql\u001b[39m\u001b[38;5;124m'\u001b[39m))\n",
      "File \u001b[1;32mc:\\ProgramData\\anaconda3\\Lib\\site-packages\\tabulate\\__init__.py:2198\u001b[0m, in \u001b[0;36mtabulate\u001b[1;34m(tabular_data, headers, tablefmt, floatfmt, intfmt, numalign, stralign, missingval, showindex, disable_numparse, colalign, maxcolwidths, rowalign, maxheadercolwidths)\u001b[0m\n\u001b[0;32m   2195\u001b[0m rowaligns \u001b[38;5;241m=\u001b[39m _expand_iterable(rowalign, \u001b[38;5;28mlen\u001b[39m(rows), ra_default)\n\u001b[0;32m   2196\u001b[0m _reinsert_separating_lines(rows, separating_lines)\n\u001b[1;32m-> 2198\u001b[0m \u001b[38;5;28;01mreturn\u001b[39;00m _format_table(\n\u001b[0;32m   2199\u001b[0m     tablefmt, headers, rows, minwidths, aligns, is_multiline, rowaligns\u001b[38;5;241m=\u001b[39mrowaligns\n\u001b[0;32m   2200\u001b[0m )\n",
      "File \u001b[1;32mc:\\ProgramData\\anaconda3\\Lib\\site-packages\\tabulate\\__init__.py:2346\u001b[0m, in \u001b[0;36m_format_table\u001b[1;34m(fmt, headers, rows, colwidths, colaligns, is_multiline, rowaligns)\u001b[0m\n\u001b[0;32m   2343\u001b[0m     append_row \u001b[38;5;241m=\u001b[39m _append_basic_row\n\u001b[0;32m   2345\u001b[0m padded_headers \u001b[38;5;241m=\u001b[39m pad_row(headers, pad)\n\u001b[1;32m-> 2346\u001b[0m padded_rows \u001b[38;5;241m=\u001b[39m [pad_row(row, pad) \u001b[38;5;28;01mfor\u001b[39;00m row \u001b[38;5;129;01min\u001b[39;00m rows]\n\u001b[0;32m   2348\u001b[0m \u001b[38;5;28;01mif\u001b[39;00m fmt\u001b[38;5;241m.\u001b[39mlineabove \u001b[38;5;129;01mand\u001b[39;00m \u001b[38;5;124m\"\u001b[39m\u001b[38;5;124mlineabove\u001b[39m\u001b[38;5;124m\"\u001b[39m \u001b[38;5;129;01mnot\u001b[39;00m \u001b[38;5;129;01min\u001b[39;00m hidden:\n\u001b[0;32m   2349\u001b[0m     _append_line(lines, padded_widths, colaligns, fmt\u001b[38;5;241m.\u001b[39mlineabove)\n",
      "File \u001b[1;32mc:\\ProgramData\\anaconda3\\Lib\\site-packages\\tabulate\\__init__.py:2237\u001b[0m, in \u001b[0;36m_pad_row\u001b[1;34m(cells, padding)\u001b[0m\n\u001b[0;32m   2235\u001b[0m \u001b[38;5;28;01mif\u001b[39;00m cells:\n\u001b[0;32m   2236\u001b[0m     pad \u001b[38;5;241m=\u001b[39m \u001b[38;5;124m\"\u001b[39m\u001b[38;5;124m \u001b[39m\u001b[38;5;124m\"\u001b[39m \u001b[38;5;241m*\u001b[39m padding\n\u001b[1;32m-> 2237\u001b[0m     padded_cells \u001b[38;5;241m=\u001b[39m [pad \u001b[38;5;241m+\u001b[39m cell \u001b[38;5;241m+\u001b[39m pad \u001b[38;5;28;01mfor\u001b[39;00m cell \u001b[38;5;129;01min\u001b[39;00m cells]\n\u001b[0;32m   2238\u001b[0m     \u001b[38;5;28;01mreturn\u001b[39;00m padded_cells\n\u001b[0;32m   2239\u001b[0m \u001b[38;5;28;01melse\u001b[39;00m:\n",
      "\u001b[1;31mKeyboardInterrupt\u001b[0m: "
     ]
    }
   ],
   "source": [
    "from tabulate import tabulate \n",
    "cursor.execute(\"select * from policelog_data\")\n",
    "out=cursor.fetchall() \n",
    "print(tabulate(out,headers=[i[0] for i in cursor.description],  tablefmt='psql'))\n"
   ]
  },
  {
   "cell_type": "code",
   "execution_count": null,
   "id": "ff46e532",
   "metadata": {},
   "outputs": [],
   "source": [
    "from tabulate import tabulate \n",
    "cursor.execute(\"SELECT COUNT(country_name) FROM policelog_data\")\n",
    "\n",
    "out=cursor.fetchall() \n",
    "print(tabulate(out,headers=[i[0] for i in cursor.description],  tablefmt='psql'))"
   ]
  },
  {
   "cell_type": "markdown",
   "id": "64017a7e",
   "metadata": {},
   "source": [
    "# Medium Level Query"
   ]
  },
  {
   "cell_type": "markdown",
   "id": "15b63ef4",
   "metadata": {},
   "source": [
    "# 1.Total Number of Police Stops\n"
   ]
  },
  {
   "cell_type": "code",
   "execution_count": null,
   "id": "e6c42ffc",
   "metadata": {},
   "outputs": [],
   "source": [
    "from tabulate import tabulate \n",
    "cursor.execute(\"SELECT COUNT(*) AS Total_stops FROM policelog_data\")\n",
    "\n",
    "out=cursor.fetchall() \n",
    "print(tabulate(out,headers=[i[0] for i in cursor.description],  tablefmt='psql'))\n"
   ]
  },
  {
   "cell_type": "markdown",
   "id": "c4d15791",
   "metadata": {},
   "source": [
    "# 2.Count of Stops by Violation Type\n"
   ]
  },
  {
   "cell_type": "code",
   "execution_count": null,
   "id": "28a39a1b",
   "metadata": {},
   "outputs": [],
   "source": [
    "from tabulate import tabulate \n",
    "cursor.execute(\"sELECT violation, COUNT(*) AS Count FROM policelog_data GROUP BY violation;\")\n",
    "\n",
    "\n",
    "out=cursor.fetchall() \n",
    "print(tabulate(out,headers=[i[0] for i in cursor.description],  tablefmt='psql'))"
   ]
  },
  {
   "cell_type": "markdown",
   "id": "14c11b21",
   "metadata": {},
   "source": [
    "# 3. Number of Arrests vs. Warnings"
   ]
  },
  {
   "cell_type": "code",
   "execution_count": null,
   "id": "6afbf92c",
   "metadata": {},
   "outputs": [],
   "source": [
    "from tabulate import tabulate \n",
    "cursor.execute(\"SELECT stop_outcome, COUNT(*) AS Count FROM policelog_data WHERE stop_outcome IN ('Arrest', 'Warning') GROUP BY stop_outcome;\")\n",
    "\n",
    "\n",
    "out=cursor.fetchall() \n",
    "print(tabulate(out,headers=[i[0] for i in cursor.description],  tablefmt='psql'))"
   ]
  },
  {
   "cell_type": "markdown",
   "id": "80e8da4a",
   "metadata": {},
   "source": [
    "# 4.Average Age of Drivers Stopped"
   ]
  },
  {
   "cell_type": "code",
   "execution_count": 33,
   "id": "53d94432",
   "metadata": {},
   "outputs": [
    {
     "name": "stdout",
     "output_type": "stream",
     "text": [
      "+---------------+\n",
      "|   Average_Age |\n",
      "|---------------|\n",
      "|       49.1122 |\n",
      "+---------------+\n"
     ]
    }
   ],
   "source": [
    "from tabulate import tabulate \n",
    "cursor.execute(\"SELECT AVG(driver_age) AS Average_Age FROM policelog_data WHERE driver_age IS NOT NULL;\")\n",
    "\n",
    "\n",
    "out=cursor.fetchall() \n",
    "print(tabulate(out,headers=[i[0] for i in cursor.description],  tablefmt='psql'))"
   ]
  },
  {
   "cell_type": "markdown",
   "id": "4ef4a8d3",
   "metadata": {},
   "source": [
    "# 5. Top 5 Most Frequent Search Types"
   ]
  },
  {
   "cell_type": "code",
   "execution_count": null,
   "id": "71fe649d",
   "metadata": {},
   "outputs": [],
   "source": [
    "from tabulate import tabulate \n",
    "cursor.execute(\"SELECT search_type, COUNT(*) AS Frequency FROM policelog_data GROUP BY search_type ORDER BY Frequency DESC LIMIT 5;\")\n",
    "\n",
    "\n",
    "out=cursor.fetchall() \n",
    "print(tabulate(out,headers=[i[0] for i in cursor.description],  tablefmt='psql'))"
   ]
  },
  {
   "cell_type": "markdown",
   "id": "705d0629",
   "metadata": {},
   "source": [
    "# 6.Count of Stops by Gender\n"
   ]
  },
  {
   "cell_type": "code",
   "execution_count": null,
   "id": "d4da05c2",
   "metadata": {},
   "outputs": [],
   "source": [
    "from tabulate import tabulate \n",
    "cursor.execute(\"SELECT driver_gender, COUNT(*) AS Count FROM policelog_data GROUP BY driver_gender;\")\n",
    "\n",
    "out=cursor.fetchall() \n",
    "print(tabulate(out,headers=[i[0] for i in cursor.description],  tablefmt='psql'))"
   ]
  },
  {
   "cell_type": "markdown",
   "id": "166d89e3",
   "metadata": {},
   "source": [
    "# 7.Most Common Violation for Arrests"
   ]
  },
  {
   "cell_type": "code",
   "execution_count": null,
   "id": "1ebb53c7",
   "metadata": {},
   "outputs": [],
   "source": [
    "from tabulate import tabulate \n",
    "cursor.execute(\"SELECT violation, COUNT(*) AS Count FROM policelog_data WHERE is_arrested = True GROUP BY violation ORDER BY Count DESC;\")\n",
    "\n",
    "\n",
    "out=cursor.fetchall() \n",
    "print(tabulate(out,headers=[i[0] for i in cursor.description],  tablefmt='psql'))"
   ]
  },
  {
   "cell_type": "markdown",
   "id": "f28f4dda",
   "metadata": {},
   "source": [
    "# 8.Average Stop Duration for Each Violation"
   ]
  },
  {
   "cell_type": "code",
   "execution_count": null,
   "id": "9e935d0a",
   "metadata": {},
   "outputs": [],
   "source": [
    "from tabulate import tabulate \n",
    "cursor.execute(\"SELECT violation, AVG(stop_duration) AS Average_Duration FROM policelog_data GROUP BY violation;\")\n",
    "\n",
    "\n",
    "out=cursor.fetchall() \n",
    "print(tabulate(out,headers=[i[0] for i in cursor.description],  tablefmt='psql'))"
   ]
  },
  {
   "cell_type": "markdown",
   "id": "779d501c",
   "metadata": {},
   "source": [
    "# 9.Number of Drug-Related Stops by Year"
   ]
  },
  {
   "cell_type": "code",
   "execution_count": null,
   "id": "0b840a5b",
   "metadata": {},
   "outputs": [],
   "source": [
    "from tabulate import tabulate \n",
    "cursor.execute(\"SELECT strftime('%Y', stop_date) AS Year, COUNT(*) AS Drug_Related_Stops FROM policelog_data WHERE drugs_related_stop = True GROUP BY Year ORDER BY Year ASC;\")\n",
    "\n",
    "out=cursor.fetchall() \n",
    "print(tabulate(out,headers=[i[0] for i in cursor.description],  tablefmt='psql'))"
   ]
  },
  {
   "cell_type": "markdown",
   "id": "46ec97fd",
   "metadata": {},
   "source": [
    "# 10. Drivers with the Highest Number of Stops"
   ]
  },
  {
   "cell_type": "code",
   "execution_count": null,
   "id": "e6468a1c",
   "metadata": {},
   "outputs": [],
   "source": [
    "from tabulate import tabulate \n",
    "cursor.execute(\"SELECT vehicle_number,driver_age,COUNT(*) AS Stop_Count FROM policelog_data GROUP BY vehicle_number,driver_age ORDER BY Stop_Count DESC Limit 10;\")\n",
    "\n",
    "\n",
    "out=cursor.fetchall() \n",
    "print(tabulate(out,headers=[i[0] for i in cursor.description],  tablefmt='psql'))"
   ]
  },
  {
   "cell_type": "markdown",
   "id": "482a2473",
   "metadata": {},
   "source": [
    "# 11.Number of Stops Conducted at Night (Between 10 PM - 5 AM)"
   ]
  },
  {
   "cell_type": "code",
   "execution_count": null,
   "id": "89219d4b",
   "metadata": {},
   "outputs": [],
   "source": [
    "from tabulate import tabulate \n",
    "cursor.execute(\"SELECT COUNT(*) AS Night_Stops FROM Policelog_data WHERE CAST(strftime('%H', stop_time) AS INTEGER) BETWEEN 22 AND 23 OR CAST(strftime('%H', stop_time) AS INTEGER) BETWEEN 00 AND 5;\")\n",
    "\n",
    "\n",
    "out=cursor.fetchall() \n",
    "print(tabulate(out,headers=[i[0] for i in cursor.description],  tablefmt='psql'))"
   ]
  },
  {
   "cell_type": "markdown",
   "id": "35b5ecd7",
   "metadata": {},
   "source": [
    "# 12. Number of Searches Conducted by Violation Type"
   ]
  },
  {
   "cell_type": "code",
   "execution_count": null,
   "id": "abb679e1",
   "metadata": {},
   "outputs": [],
   "source": [
    "from tabulate import tabulate \n",
    "cursor.execute(\"SELECT violation, COUNT(*) AS Search_Count FROM policelog_data WHERE search_conducted = True GROUP BY violation ORDER BY Search_Count DESC;\")\n",
    "\n",
    "\n",
    "out=cursor.fetchall() \n",
    "print(tabulate(out,headers=[i[0] for i in cursor.description],  tablefmt='psql'))"
   ]
  },
  {
   "cell_type": "markdown",
   "id": "7adc3a19",
   "metadata": {},
   "source": [
    "# 13. Arrest Rate by Driver Gender\n",
    " "
   ]
  },
  {
   "cell_type": "code",
   "execution_count": null,
   "id": "94dc1289",
   "metadata": {},
   "outputs": [],
   "source": [
    "from tabulate import tabulate \n",
    "cursor.execute(\"SELECT driver_gender, COUNT(CASE WHEN is_arrested = 1 THEN 1 END) * 100.0 / COUNT(*) AS Arrest_Rate FROM policelog_data GROUP BY driver_gender;\")\n",
    "\n",
    "\n",
    "out=cursor.fetchall() \n",
    "print(tabulate(out,headers=[i[0] for i in cursor.description],  tablefmt='psql'))"
   ]
  },
  {
   "cell_type": "markdown",
   "id": "faf3a4ca",
   "metadata": {},
   "source": [
    "# 14. Violation Trends Over Time (Monthly Count of Violations)"
   ]
  },
  {
   "cell_type": "code",
   "execution_count": null,
   "id": "8d82c659",
   "metadata": {},
   "outputs": [],
   "source": [
    "from tabulate import tabulate \n",
    "cursor.execute(\"SELECT strftime('%Y-%m', stop_date) AS Month, violation, COUNT(*) AS Violation_Count FROM policelog_data GROUP BY Month, violation ORDER BY Month ASC, Violation_Count DESC;\")\n",
    "\n",
    "\n",
    "out=cursor.fetchall() \n",
    "print(tabulate(out,headers=[i[0] for i in cursor.description],  tablefmt='psql'))"
   ]
  },
  {
   "cell_type": "markdown",
   "id": "59f5c3b4",
   "metadata": {},
   "source": [
    "# 15.Most Common Stop Outcomes for Drug-Related Stops"
   ]
  },
  {
   "cell_type": "code",
   "execution_count": null,
   "id": "3f2c1c52",
   "metadata": {},
   "outputs": [],
   "source": [
    "from tabulate import tabulate \n",
    "cursor.execute(\"SELECT stop_outcome, COUNT(*) AS Outcome_Count FROM policelog_data WHERE drugs_related_stop = 1 GROUP BY stop_outcome ORDER BY Outcome_Count DESC;\")\n",
    "\n",
    "\n",
    "out=cursor.fetchall() \n",
    "print(tabulate(out,headers=[i[0] for i in cursor.description],  tablefmt='psql'))"
   ]
  },
  {
   "cell_type": "markdown",
   "id": "4426c058",
   "metadata": {},
   "source": [
    "# Complex"
   ]
  },
  {
   "cell_type": "markdown",
   "id": "32e1135c",
   "metadata": {},
   "source": [
    "# 1.Yearly Breakdown of Stops and Arrests by Country (Using Subquery and Window Functions)"
   ]
  },
  {
   "cell_type": "code",
   "execution_count": 111,
   "id": "1c8dc295",
   "metadata": {},
   "outputs": [
    {
     "name": "stdout",
     "output_type": "stream",
     "text": [
      "+----------------+--------+---------------+-----------------+-----------------+\n",
      "| country_name   |   Year |   Total_Stops |   Total_Arrests |   Rank_By_Stops |\n",
      "|----------------+--------+---------------+-----------------+-----------------|\n",
      "| India          |   2020 |        219980 |          110910 |               1 |\n",
      "| Canada         |   2020 |        219080 |          109990 |               2 |\n",
      "| USA            |   2020 |        216320 |          107560 |               3 |\n",
      "+----------------+--------+---------------+-----------------+-----------------+\n"
     ]
    }
   ],
   "source": [
    "from tabulate import tabulate \n",
    "cursor.execute(\"\"\"WITH YearlyData AS (\n",
    "    SELECT country_name,\n",
    "           strftime('%Y', stop_date) AS Year,\n",
    "           COUNT(*) AS Total_Stops,\n",
    "           SUM(CASE WHEN is_arrested = 1 THEN 1 ELSE 0 END) AS Total_Arrests\n",
    "    FROM policelog_data\n",
    "    GROUP BY country_name, Year\n",
    "),\n",
    "RankedData AS (\n",
    "    SELECT country_name,\n",
    "           Year,\n",
    "           Total_Stops,\n",
    "           Total_Arrests,\n",
    "           RANK() OVER (PARTITION BY Year ORDER BY Total_Stops DESC) AS Rank_By_Stops\n",
    "    FROM YearlyData\n",
    ")\n",
    "SELECT country_name,\n",
    "       Year,\n",
    "       Total_Stops,\n",
    "       Total_Arrests,\n",
    "       Rank_By_Stops\n",
    "FROM RankedData\n",
    "ORDER BY Year ASC, Rank_By_Stops;\n",
    "\n",
    "\"\"\")\n",
    "\n",
    "\n",
    "out=cursor.fetchall() \n",
    "print(tabulate(out,headers=[i[0] for i in cursor.description],  tablefmt='psql'))\n"
   ]
  },
  {
   "cell_type": "markdown",
   "id": "795b54af",
   "metadata": {},
   "source": [
    "# 2.Driver Violation Trends Based on Age and Race (Join with Subquery)"
   ]
  },
  {
   "cell_type": "code",
   "execution_count": null,
   "id": "87f593ad",
   "metadata": {},
   "outputs": [],
   "source": [
    "from tabulate import tabulate \n",
    "cursor.execute(\"\"\"SELECT driver_age,\n",
    "       driver_race,\n",
    "       violation,\n",
    "       COUNT(*) AS Violation_Count\n",
    "FROM policelog_data\n",
    "WHERE violation IN (\n",
    "    SELECT DISTINCT violation\n",
    "    FROM policelog_data\n",
    "    WHERE driver_age IS NOT NULL AND driver_race IS NOT NULL\n",
    ")\n",
    "GROUP BY driver_age, driver_race, violation\n",
    "ORDER BY driver_age ASC, Violation_Count DESC\n",
    ";\"\"\")\n",
    "\n",
    "\n",
    "out=cursor.fetchall() \n",
    "print(tabulate(out,headers=[i[0] for i in cursor.description],  tablefmt='psql'))"
   ]
  },
  {
   "cell_type": "markdown",
   "id": "ee44bdc9",
   "metadata": {},
   "source": [
    "# 3.Time Period Analysis of Stops (Joining with Date Functions)"
   ]
  },
  {
   "cell_type": "code",
   "execution_count": null,
   "id": "e8084a20",
   "metadata": {},
   "outputs": [],
   "source": [
    "from tabulate import tabulate \n",
    "cursor.execute(\"\"\"SELECT \n",
    "    strftime('%Y', stop_date) AS Year,\n",
    "    strftime('%m', stop_date) AS Month,\n",
    "    COUNT(*) AS Total_Stops,\n",
    "    SUM(CASE WHEN is_arrested = 1 THEN 1 ELSE 0 END) AS Total_Arrests\n",
    "FROM policelog_data\n",
    "GROUP BY Year, Month\n",
    "ORDER BY Year ASC, Month ASC;\n",
    "\"\"\")\n",
    "\n",
    "\n",
    "out=cursor.fetchall() \n",
    "print(tabulate(out,headers=[i[0] for i in cursor.description],  tablefmt='psql'))"
   ]
  },
  {
   "cell_type": "markdown",
   "id": "01c228bb",
   "metadata": {},
   "source": [
    "# 4.Correlation Between Age, Violation, and Stop Duration (Subquery)"
   ]
  },
  {
   "cell_type": "code",
   "execution_count": null,
   "id": "c4fdea4d",
   "metadata": {},
   "outputs": [],
   "source": [
    "from tabulate import tabulate \n",
    "cursor.execute(\"\"\"SELECT driver_age,\n",
    "       violation,\n",
    "       AVG(stop_duration) AS Avg_Stop_Duration,\n",
    "       (SELECT COUNT(*) \n",
    "        FROM policelog_data AS SubQuery \n",
    "        WHERE SubQuery.driver_age = MainQuery.driver_age \n",
    "          AND SubQuery.violation = MainQuery.violation) AS Total_Stops\n",
    "FROM policelog_data AS MainQuery\n",
    "GROUP BY driver_age, violation\n",
    "ORDER BY driver_age ASC, Avg_Stop_Duration DESC\n",
    ";\"\"\")\n",
    "\n",
    "\n",
    "out=cursor.fetchall() \n",
    "print(tabulate(out,headers=[i[0] for i in cursor.description],  tablefmt='psql'))"
   ]
  },
  {
   "cell_type": "markdown",
   "id": "cffb13cd",
   "metadata": {},
   "source": [
    "# 5.Violations with High Search and Arrest Rates (Window Function)"
   ]
  },
  {
   "cell_type": "code",
   "execution_count": null,
   "id": "8f23b20b",
   "metadata": {},
   "outputs": [],
   "source": [
    "from tabulate import tabulate \n",
    "cursor.execute(\"\"\"WITH ViolationStats AS (\n",
    "    SELECT violation,\n",
    "           COUNT(*) AS Total_Stops,\n",
    "           SUM(CASE WHEN search_conducted = 1 THEN 1 ELSE 0 END) AS Search_Count,\n",
    "           SUM(CASE WHEN is_arrested = 1 THEN 1 ELSE 0 END) AS Arrest_Count\n",
    "    FROM policelog_data\n",
    "    GROUP BY violation\n",
    ")\n",
    "SELECT violation,\n",
    "       Total_Stops,\n",
    "       Search_Count,\n",
    "       Arrest_Count,\n",
    "       ROUND(Search_Count * 100.0 / Total_Stops, 2) AS Search_Rate,\n",
    "       ROUND(Arrest_Count * 100.0 / Total_Stops, 2) AS Arrest_Rate\n",
    "FROM ViolationStats\n",
    "WHERE (Search_Count * 100.0 / Total_Stops) > 30 OR (Arrest_Count * 100.0 / Total_Stops) > 20\n",
    "ORDER BY (Search_Count * 100.0 / Total_Stops) DESC, (Arrest_Count * 100.0 / Total_Stops) DESC\n",
    ";\"\"\")\n",
    "\n",
    "\n",
    "out=cursor.fetchall() \n",
    "print(tabulate(out,headers=[i[0] for i in cursor.description],  tablefmt='psql'))"
   ]
  },
  {
   "cell_type": "markdown",
   "id": "1aabc284",
   "metadata": {},
   "source": [
    "# 6.Driver Demographics by Country (Age, Gender, and Race)\n"
   ]
  },
  {
   "cell_type": "code",
   "execution_count": null,
   "id": "9d8ac6c2",
   "metadata": {},
   "outputs": [],
   "source": [
    "from tabulate import tabulate \n",
    "cursor.execute(\"\"\"SELECT \n",
    "    country_name,\n",
    "    ROUND(AVG(driver_age), 2) AS Average_Age,\n",
    "    COUNT(*) AS Total_Stops,\n",
    "    SUM(CASE WHEN driver_gender = 'Male' THEN 1 ELSE 0 END) AS Male_Count,\n",
    "    SUM(CASE WHEN driver_gender = 'Female' THEN 1 ELSE 0 END) AS Female_Count,\n",
    "    SUM(CASE WHEN driver_race = 'White' THEN 1 ELSE 0 END) AS White_Count,\n",
    "    SUM(CASE WHEN driver_race = 'Black' THEN 1 ELSE 0 END) AS Black_Count,\n",
    "    SUM(CASE WHEN driver_race = 'Asian' THEN 1 ELSE 0 END) AS Asian_Count,\n",
    "    SUM(CASE WHEN driver_race = 'Hispanic' THEN 1 ELSE 0 END) AS Hispanic_Count,\n",
    "    SUM(CASE WHEN driver_race NOT IN ('White', 'Black', 'Asian', 'Hispanic') THEN 1 ELSE 0 END) AS Other_Race_Count\n",
    "FROM policelog_data\n",
    "WHERE driver_age IS NOT NULL\n",
    "GROUP BY country_name\n",
    "ORDER BY Total_Stops DESC\n",
    ";\"\"\")\n",
    "\n",
    "\n",
    "out=cursor.fetchall() \n",
    "print(tabulate(out,headers=[i[0] for i in cursor.description],  tablefmt='psql'))"
   ]
  },
  {
   "cell_type": "markdown",
   "id": "ea4d4933",
   "metadata": {},
   "source": [
    "# 7.Top 5 Violations with Highest Arrest Rates"
   ]
  },
  {
   "cell_type": "code",
   "execution_count": null,
   "id": "52e03d28",
   "metadata": {},
   "outputs": [],
   "source": [
    "from tabulate import tabulate \n",
    "cursor.execute(\"\"\"SELECT violation,\n",
    "       COUNT(*) AS Total_Stops,\n",
    "       SUM(CASE WHEN is_arrested = 1 THEN 1 ELSE 0 END) AS Arrest_Count,\n",
    "       ROUND(SUM(CASE WHEN is_arrested = 1 THEN 1 ELSE 0 END) * 100.0 / COUNT(*), 2) AS Arrest_Rate\n",
    "FROM policelog_data\n",
    "GROUP BY violation\n",
    "ORDER BY Arrest_Rate DESC\n",
    "LIMIT 5;\n",
    "\"\"\")\n",
    "\n",
    "\n",
    "out=cursor.fetchall() \n",
    "print(tabulate(out,headers=[i[0] for i in cursor.description],  tablefmt='psql'))"
   ]
  },
  {
   "cell_type": "markdown",
   "id": "1b641530",
   "metadata": {},
   "source": [
    "# Streamlit"
   ]
  },
  {
   "cell_type": "code",
   "execution_count": 19,
   "id": "75e3b0e4",
   "metadata": {},
   "outputs": [
    {
     "name": "stdout",
     "output_type": "stream",
     "text": [
      "Overwriting app.py\n"
     ]
    }
   ],
   "source": [
    "%%writefile app.py\n",
    "import streamlit as st\n",
    "import sqlite3\n",
    "import pandas as pd\n",
    "import matplotlib.pyplot as plt\n",
    "import seaborn as sns\n",
    "import plotly.express as px\n",
    "\n",
    "data = pd.read_csv(\"c:/Users/nagam/Downloads/vehicle_logs.csv\")\n",
    "\n",
    "# Function to connect to SQLite database\n",
    "def get_data(query, params=None):\n",
    "    conn = sqlite3.connect(\"policelog_database.sqlite\")\n",
    "    if params:\n",
    "        df = pd.read_sql_query(query, conn, params=params)\n",
    "    else:\n",
    "        df = pd.read_sql_query(query, conn)\n",
    "    conn.close()\n",
    "    return df\n",
    "\n",
    "\n",
    "st.set_page_config(page_title=\"Securecheck police Dashboard\", layout=\"wide\")\n",
    "\n",
    "\n",
    "#st.title(\"Traffic Police security Post Log Reports\")\n",
    "\n",
    "#st.markdown(\"🚥 **Traffic Police Security Post Log Reports**\", unsafe_allow_html=True)\n",
    "#st.markdown(\"<span style='color:blue;'>Real-time monitoring and insights for law enforcement 🚨</span>\", unsafe_allow_html=True)\n",
    "\n",
    "st.sidebar.title(\"Navigation\")\n",
    "page = st.sidebar.radio(\"Direct Into\", [\"Project Introduction\", \"Vehical logs Visualization\", \"SQL Queries\",\"Predicted Violation\",\"Creator Info\"])\n",
    "\n",
    "if page == \"Project Introduction\":\n",
    "    st.title(\"🚥 Traffic Security Analysis\")\n",
    "    tab1,tab2=st.tabs([\"Project Introduction\",\"Police Post Log Database\"])\n",
    "    with tab1:\n",
    "        st.image(\"https://static.vecteezy.com/system/resources/previews/002/928/462/original/the-traffic-policeman-waved-his-hand-signal-at-the-crosswalk-vector.jpg\",)  # Adding GIF\n",
    "        st.subheader(\"🚨 A Streamlit App for Exploring Traffice Security logs\")\n",
    "        st.write(\"\"\"\n",
    "        Police check posts require a centralized system for logging, tracking, and analyzing vehicle movements. \n",
    "        Currently, manual logging and inefficient databases slow down security processes. \n",
    "        This project aims to build an SQL-based check post database with a Python-powered dashboard for real-time insights and alerts\n",
    "    \n",
    "        **Features:**\n",
    "        - Display vehicle logs, violations, and officer reports.\n",
    "        - Implement SQL-based search filters for quick lookups.\n",
    "        - Generate analytics and trends (e.g., high-risk vehicles)\n",
    "\n",
    "    \n",
    "        **Database Used:** `Policelog_database.sqlite`\n",
    "        \"\"\")\n",
    "    with tab2:\n",
    "        st.header(\"Policelog_Database\")\n",
    "        total_database = \"select * from policelog_data\"\n",
    "        data = get_data(total_database)\n",
    "        st.dataframe(data, use_container_width=True)\n",
    "\n",
    "elif page == \"Vehical logs Visualization\":\n",
    "    st.header(\"📊 Visualization\")\n",
    "    # Creating columns\n",
    "    col1, col2, col3, col4,col5 = st.columns(5)\n",
    "# Adding content to the first column\n",
    "    with col1:\n",
    "        total_stops = data.shape[0]\n",
    "        st.metric(\"Total Police Stops\", total_stops)\n",
    "    with col2:\n",
    "        arrests=data[data['stop_outcome'].str.contains(\"arrest\",case=False,na=False)].shape[0]\n",
    "        st.metric(\"Total Arrests\",arrests)\n",
    "    with col3:\n",
    "        warnings=data[data['stop_outcome'].str.contains(\"warning\",case=False,na=False)].shape[0]\n",
    "        st.metric(\"Total Warnings\",warnings)\n",
    "    with col4:\n",
    "        tickets=data[data['stop_outcome'].str.contains(\"ticket\",case=False,na=False)].shape[0]\n",
    "        st.metric(\"Total Tickets\",tickets)\n",
    "    with col5:\n",
    "        drunk_driving=data[data['violation_raw'].str.contains(\"Drunk Driving\",case=False,na=False)].shape[0]\n",
    "        st.metric(\"Total Drunk Driving\",drunk_driving)  \n",
    "\n",
    "    st.subheader(\"Key Metrics Visualization\")\n",
    "\n",
    "# Prepare data for chart\n",
    "    metrics = {\n",
    "        \"Metric\": [\"Total Police Stops\",   \"Arrests\",   \"Warnings\",   \"Tickets\",   \"Drunk Driving\"],\n",
    "        \"Count\": [total_stops,  arrests,  warnings,  tickets,  drunk_driving]\n",
    "    }\n",
    "    metrics_df = pd.DataFrame(metrics)\n",
    "    # Create a bar chart\n",
    "    fig, ax = plt.subplots()\n",
    "    ax.bar(metrics_df[\"Metric\"], metrics_df[\"Count\"], color='skyblue')\n",
    "    ax.set_ylabel(\"Count\")\n",
    "    ax.set_title(\"Key Metrics\")\n",
    "\n",
    "    # Display the chart in Streamlit\n",
    "    st.pyplot(fig)\n",
    "    st.header(\"Visual Insights\")\n",
    "    tab1,tab2=st.tabs([\"stops by violation\",\"Driver Gender Distribution\"])\n",
    "    with tab1:\n",
    "        if not data.empty and 'violation_raw' in data.columns:\n",
    "            violation_data = data['violation_raw'].value_counts().reset_index()\n",
    "            violation_data.columns = ['violation_raw', 'count']  # Ensure column names are correct\n",
    "            # Create the bar chart\n",
    "            fig = px.bar(\n",
    "            violation_data,\n",
    "            x='violation_raw',\n",
    "            y='count',\n",
    "            title=\"Stops by Violation Type\",\n",
    "            )\n",
    "            # Display the chart in Streamlit\n",
    "            st.plotly_chart(fig, use_container_width=True)\n",
    "    \n",
    "    \n",
    "    # Display the chart in Streamlit\n",
    "    \n",
    "        else:\n",
    "            st.warning(\"No data available for violation chart\")\n",
    "\n",
    "    with tab2:\n",
    "        if not data.empty and 'driver_gender' in data.columns:\n",
    "            gender_data = data['driver_gender'].value_counts().reset_index()\n",
    "            gender_data.columns = ['Gender', 'count']  # Ensure column name is 'count'\n",
    "            # Correct column name for 'values' parameter\n",
    "            fig = px.pie(gender_data, names='Gender', values='count', title=\"Driver Gender Distribution\")\n",
    "            st.plotly_chart(fig, use_container_width=True)\n",
    "        else:\n",
    "            st.warning(\"No data available for driver gender chart\")\n",
    "            \n",
    "elif page == \"SQL Queries\":\n",
    "    st.title(\"📋 SQL Query Results\")\n",
    "    tab1,tab2=st.tabs([\"Basic Acumen\",\"Advanced Acumen\"])\n",
    "    with tab1:\n",
    "        st.header(\"🔍Preliminary Analysis\")\n",
    "        query = {\n",
    "        \"1. Total Number of Police Stops\": \"SELECT COUNT(*) AS Total_stops FROM policelog_data\",\n",
    "        \"2. Count of Stops by Violation Type\": \"sELECT violation, COUNT(*) AS Count FROM policelog_data GROUP BY violation\",\n",
    "        \"3. Number of Arrests vs. Warnings\" : \"SELECT stop_outcome, COUNT(*) AS Count FROM policelog_data WHERE stop_outcome IN ('Arrest', 'Warning') GROUP BY stop_outcome\",\n",
    "        \"4. Average Age of Drivers Stopped\" : \"SELECT AVG(driver_age) AS Average_Age FROM policelog_data WHERE driver_age IS NOT NULL\",\n",
    "        \"5. Top 5 Most Frequent Search Types\" : \"SELECT search_type, COUNT(*) AS Frequency FROM policelog_data GROUP BY search_type ORDER BY Frequency DESC LIMIT 5\",\n",
    "        \"6. Count of Stops by Gender\" : \"SELECT driver_gender, COUNT(*) AS Count FROM policelog_data GROUP BY driver_gender\",\n",
    "        \"7. Most Common Violation for Arrests\" : \"SELECT violation, COUNT(*) AS Count FROM policelog_data WHERE is_arrested = True GROUP BY violation ORDER BY Count DESC\",\n",
    "        \"8. Average Stop Duration for Each Violation\" : \"SELECT violation, AVG(stop_duration) AS Average_Duration FROM policelog_data GROUP BY violation\",\n",
    "        \"9. Number of Drug-Related Stops by Year\" : \"SELECT strftime('%Y', stop_date) AS Year, COUNT(*) AS Drug_Related_Stops FROM policelog_data WHERE drugs_related_stop = True GROUP BY Year ORDER BY Year ASC\",\n",
    "        \"10. Drivers with the Highest Number of Stops\" : \"SELECT vehicle_number,driver_age,COUNT(*) AS Stop_Count FROM policelog_data GROUP BY vehicle_number,driver_age ORDER BY Stop_Count DESC Limit 10\",\n",
    "        \"11. Number of Stops Conducted at Night (Between 10 PM - 5 AM)\" : \"SELECT COUNT(*) AS Night_Stops FROM Policelog_data WHERE CAST(strftime('%H', stop_time) AS INTEGER) BETWEEN 22 AND 23 OR CAST(strftime('%H', stop_time) AS INTEGER) BETWEEN 00 AND 5\",\n",
    "        \"12. Number of Searches Conducted by Violation Type\" : \"SELECT violation, COUNT(*) AS Search_Count FROM policelog_data WHERE search_conducted = True GROUP BY violation ORDER BY Search_Count DESC\",\n",
    "        \"13. Arrest Rate by Driver Gender\" : \"SELECT driver_gender, COUNT(CASE WHEN is_arrested = 1 THEN 1 END) * 100.0 / COUNT(*) AS Arrest_Rate FROM policelog_data GROUP BY driver_gender\",\n",
    "        \"14. Violation Trends Over Time (Monthly Count of Violations)\" : \"SELECT strftime('%Y-%m', stop_date) AS Month, violation, COUNT(*) AS Violation_Count FROM policelog_data GROUP BY Month, violation ORDER BY Month ASC, Violation_Count DESC\",\n",
    "        \"15. Most Common Stop Outcomes for Drug-Related Stops\" : \"SELECT stop_outcome, COUNT(*) AS Outcome_Count FROM policelog_data WHERE drugs_related_stop = 1 GROUP BY stop_outcome ORDER BY Outcome_Count DESC\"\n",
    "        }\n",
    "        selected_query = st.selectbox(\"Choose a Query\", list(query.keys()))\n",
    "        if st.button(\"Run Query\", key=\"run_query_button\"):\n",
    "            query_result = get_data(query[selected_query])\n",
    "            if not query_result.empty:\n",
    "                st.write(query_result)\n",
    "            else:\n",
    "                st.warning(\"No result founds for the selected query\")\n",
    "\n",
    "\n",
    "    with tab2:\n",
    "        st.header(\"📚Advanced Acumen\")\n",
    "        queries = {\n",
    "        \"1. Yearly Breakdown of Stops and Arrests by Country (Using Subquery and Window Functions)\": \"WITH YearlyData AS (SELECT country_name,strftime('%Y', stop_date) AS Year,COUNT(*) AS Total_Stops,SUM(CASE WHEN is_arrested = 1 THEN 1 ELSE 0 END) AS Total_Arrests FROM policelog_data GROUP BY country_name, Year),RankedData AS (SELECT country_name,Year,Total_Stops,Total_Arrests,RANK() OVER (PARTITION BY Year ORDER BY Total_Stops DESC) AS Rank_By_Stops FROM YearlyData)SELECT country_name,Year,Total_Stops,Total_Arrests,Rank_By_Stops FROM RankedData ORDER BY Year ASC, Rank_By_Stops\",\n",
    "        \"2. Driver Violation Trends Based on Age and Race (Join with Subquery)\": \"SELECT driver_age,driver_race,violation,COUNT(*) AS Violation_Count FROM policelog_data WHERE violation IN (SELECT DISTINCT violation FROM policelog_data WHERE driver_age IS NOT NULL AND driver_race IS NOT NULL)GROUP BY driver_age, driver_race, violation ORDER BY driver_age ASC, Violation_Count DESC\",\n",
    "        \"3. Time Period Analysis of Stops (Joining with Date Functions)\" : \"SELECT strftime('%Y', stop_date) AS Year,strftime('%m', stop_date) AS Month,COUNT(*) AS Total_Stops,SUM(CASE WHEN is_arrested = 1 THEN 1 ELSE 0 END) AS Total_Arrests FROM policelog_data GROUP BY Year, Month ORDER BY Year ASC, Month ASC\",\n",
    "        \"4. Correlation Between Age, Violation, and Stop Duration (Subquery)\" : \"SELECT driver_age,violation,AVG(stop_duration) AS Avg_Stop_Duration,(SELECT COUNT(*) FROM policelog_data AS SubQuery WHERE SubQuery.driver_age = MainQuery.driver_age AND SubQuery.violation = MainQuery.violation) AS Total_Stops FROM policelog_data AS MainQuery GROUP BY driver_age, violation ORDER BY driver_age ASC, Avg_Stop_Duration DESC\",\n",
    "        \"5. Violations with High Search and Arrest Rates (Window Function)\" : \"WITH ViolationStats AS (SELECT violation,COUNT(*) AS Total_Stops,SUM(CASE WHEN search_conducted = 1 THEN 1 ELSE 0 END) AS Search_Count,SUM(CASE WHEN is_arrested = 1 THEN 1 ELSE 0 END) AS Arrest_Count FROM policelog_data GROUP BY violation) SELECT violation,Total_Stops,Search_Count,Arrest_Count,ROUND(Search_Count * 100.0 / Total_Stops, 2) AS Search_Rate,ROUND(Arrest_Count * 100.0 / Total_Stops, 2) AS Arrest_Rate FROM ViolationStats WHERE (Search_Count * 100.0 / Total_Stops) > 30 OR (Arrest_Count * 100.0 / Total_Stops) > 20 ORDER BY (Search_Count * 100.0 / Total_Stops) DESC, (Arrest_Count * 100.0 / Total_Stops) DESC\",\n",
    "        \"6. Driver Demographics by Country (Age, Gender, and Race)\" : \"SELECT country_name,ROUND(AVG(driver_age), 2) AS Average_Age,COUNT(*) AS Total_Stops,SUM(CASE WHEN driver_gender = 'Male' THEN 1 ELSE 0 END) AS Male_Count,SUM(CASE WHEN driver_gender = 'Female' THEN 1 ELSE 0 END) AS Female_Count,SUM(CASE WHEN driver_race = 'White' THEN 1 ELSE 0 END) AS White_Count,SUM(CASE WHEN driver_race = 'Black' THEN 1 ELSE 0 END) AS Black_Count,SUM(CASE WHEN driver_race = 'Asian' THEN 1 ELSE 0 END) AS Asian_Count,SUM(CASE WHEN driver_race = 'Hispanic' THEN 1 ELSE 0 END) AS Hispanic_Count,SUM(CASE WHEN driver_race NOT IN ('White', 'Black', 'Asian', 'Hispanic') THEN 1 ELSE 0 END) AS Other_Race_Count FROM policelog_data WHERE driver_age IS NOT NULL GROUP BY country_name ORDER BY Total_Stops DESC\",\n",
    "        \"7. Top 5 Violations with Highest Arrest Rates\" : \"SELECT violation,COUNT(*) AS Total_Stops,SUM(CASE WHEN is_arrested = 1 THEN 1 ELSE 0 END) AS Arrest_Count,ROUND(SUM(CASE WHEN is_arrested = 1 THEN 1 ELSE 0 END) * 100.0 / COUNT(*), 2) AS Arrest_Rate FROM policelog_data GROUP BY violation ORDER BY Arrest_Rate DESC LIMIT 5\"\n",
    "    }\n",
    "        selected_query = st.selectbox(\"Choose a Query\", list(queries.keys()))\n",
    "        if st.button(\"Advance Query\", key=\"reset_query_button\"):\n",
    "            query_result = get_data(queries[selected_query])\n",
    "            \n",
    "            if not query_result.empty:\n",
    "                st.write(query_result)\n",
    "            else:\n",
    "                st.warning(\"No result founds for the selected query\")\n",
    "            \n",
    "            \n",
    "elif page == \"Predicted Violation\":\n",
    "        \n",
    "    st.title(\"🚔Predicted Violation\")\n",
    "    st.image(\"https://img.freepik.com/premium-photo/vector-illustration-policeman-giving-driver-traffic-violation-ticket_977617-89276.jpg\")\n",
    "    st.header(\"Police Log Report\")\n",
    "    with st.form(\"New_Log_Form\"):\n",
    "        stop_date = st.date_input(\"Stop Date\")\n",
    "        stop_time = st.time_input(\"Stop Time\")\n",
    "        country_name = st.text_input(\"Country Name\")\n",
    "        driver_gender = st.selectbox(\"Driver Gender\", [\"male\", \"female\"])\n",
    "        driver_age = st.number_input(\"Driver Age\", min_value=16, max_value=100, value=27)\n",
    "        driver_race = st.text_input(\"Driver Race\")\n",
    "        search_conducted = st.selectbox(\"Search Conducted\", [\"0\", \"1\"])\n",
    "        search_type = st.text_input(\"Search Type\")\n",
    "        drugs_related_stop = st.selectbox(\"Drug Related\", [\"0\", \"1\"])\n",
    "        stop_duration = st.selectbox(\"Stop Duration\", data['stop_duration'].dropna().unique())\n",
    "        vehicle_number = st.text_input(\"Vehicle Number\")\n",
    "        timestamp = pd.Timestamp.now()\n",
    "\n",
    "        submitted = st.form_submit_button(\"Prediction of Police Log\")\n",
    "\n",
    "    if submitted:\n",
    "        filtered_data = data[\n",
    "            (data['driver_gender'] == driver_gender) &\n",
    "            (data['driver_age'] == driver_age) &\n",
    "            (data['search_conducted'] == int(search_conducted)) &\n",
    "            (data['stop_duration'] == stop_duration) &\n",
    "            (data['drugs_related_stop'] == int(drugs_related_stop))\n",
    "            ]\n",
    "        if not filtered_data.empty:\n",
    "            predicted_outcome = filtered_data['stop_outcome'].mode()[0]\n",
    "            predicted_violation = filtered_data['violation'].mode()[0]\n",
    "        else:\n",
    "            predicted_outcome = \"warning\"\n",
    "            predicted_violation = \"speeding\"\n",
    "    # Fixed typo in variable name and logic\n",
    "        search_text = \"A search was conducted\" if int(search_conducted) else \"No search was conducted\"\n",
    "        drug_text = \"was drug-related\" if int(drugs_related_stop) else \"was not drug-related\"\n",
    "\n",
    "        # Corrected indentation and removed redundant st.markdown\n",
    "        st.markdown(f\"\"\"\n",
    "        🚕 A {driver_age}-year-old {driver_gender} driver in {country_name} was stopped for {predicted_violation} at {stop_time.strftime('%I:%M %p')} on {stop_date}, {search_text}, and the stop {drug_text}. \n",
    "        Stop duration: **{stop_duration}**, Vehicle Number: **{vehicle_number}**.\"\"\")\n",
    "\n",
    "\n",
    "\n",
    "elif page == \"Creator Info\":\n",
    "    st.title(\"👩‍💻 Creator of this Project\")\n",
    "    st.image(\"https://media.giphy.com/media/1ynCEtlgMPAeNAqdnu/giphy.gif\")\n",
    "    st.write(\"\"\"\n",
    "    **Developed by:** Preethi Nagamuthu \n",
    "\n",
    "    **Skills:** Python, SQL,Streamlit, Pandas   \n",
    "    \"\"\")        \n"
   ]
  },
  {
   "cell_type": "code",
   "execution_count": 12,
   "id": "5e0cbdcb",
   "metadata": {},
   "outputs": [
    {
     "name": "stdout",
     "output_type": "stream",
     "text": [
      "^C\n"
     ]
    }
   ],
   "source": [
    "!streamlit run app.py"
   ]
  }
 ],
 "metadata": {
  "kernelspec": {
   "display_name": "base",
   "language": "python",
   "name": "python3"
  },
  "language_info": {
   "codemirror_mode": {
    "name": "ipython",
    "version": 3
   },
   "file_extension": ".py",
   "mimetype": "text/x-python",
   "name": "python",
   "nbconvert_exporter": "python",
   "pygments_lexer": "ipython3",
   "version": "3.12.7"
  }
 },
 "nbformat": 4,
 "nbformat_minor": 5
}
